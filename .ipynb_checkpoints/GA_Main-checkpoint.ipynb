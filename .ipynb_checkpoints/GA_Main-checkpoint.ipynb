{
 "cells": [
  {
   "cell_type": "markdown",
   "metadata": {},
   "source": [
    "### Imports"
   ]
  },
  {
   "cell_type": "code",
   "execution_count": null,
   "metadata": {},
   "outputs": [],
   "source": [
    "#import numpy as np\n",
    "#import pandas as pd"
   ]
  },
  {
   "cell_type": "code",
   "execution_count": null,
   "metadata": {},
   "outputs": [],
   "source": [
    "import warnings\n",
    "warnings.filterwarnings(\"ignore\")"
   ]
  },
  {
   "cell_type": "code",
   "execution_count": null,
   "metadata": {},
   "outputs": [],
   "source": [
    "import include.GA_clsGeneticAlgorithm as GA\n",
    "import pandas as pd\n",
    "pd.set_option('mode.chained_assignment', None)"
   ]
  },
  {
   "cell_type": "markdown",
   "metadata": {},
   "source": [
    "### Genes"
   ]
  },
  {
   "cell_type": "code",
   "execution_count": null,
   "metadata": {},
   "outputs": [],
   "source": [
    "import genes.gene_list_Data as gl\n",
    "genes_data = gl.gene_list()"
   ]
  },
  {
   "cell_type": "markdown",
   "metadata": {},
   "source": [
    "### Params"
   ]
  },
  {
   "cell_type": "code",
   "execution_count": null,
   "metadata": {},
   "outputs": [],
   "source": [
    "params = []\n",
    "params.append(['periods_away_to_predict',1])\n",
    "params.append(['get_target',True])\n",
    "params.append(['start_new', True])\n",
    "params.append(['initial_population', 10])\n",
    "\n",
    "#params.append(['training_file', 'data/EURUSD_M5_2014-01-01--2014-01-31.csv'])\n",
    "params.append(['training_file', 'data/EURUSD_M5_2014-01-01--2014-12-31.csv'])\n",
    "\n",
    "param_dict = {}\n",
    "for p in params:\n",
    "    param_dict[p[0]] = p[1]\n",
    "params = param_dict"
   ]
  },
  {
   "cell_type": "code",
   "execution_count": null,
   "metadata": {},
   "outputs": [],
   "source": [
    "def change_dir(_dir):\n",
    "    full_path = os.getcwd()\n",
    "    p = full_path.split('\\\\')\n",
    "    curr_folder = p[-1]\n",
    "    \n",
    "    if curr_folder != _dir:\n",
    "        os.chdir(_dir)"
   ]
  },
  {
   "cell_type": "markdown",
   "metadata": {},
   "source": [
    "### Classifiers"
   ]
  },
  {
   "cell_type": "code",
   "execution_count": null,
   "metadata": {},
   "outputs": [],
   "source": [
    "import include.Classifiers as cl\n",
    "classifiers = cl.getClassifiers()"
   ]
  },
  {
   "cell_type": "code",
   "execution_count": null,
   "metadata": {},
   "outputs": [],
   "source": [
    "totry = {\n",
    "    'LogisticRegressionCV',\n",
    "    'MLPClassifier',\n",
    "    'OneVsRestClassifier',\n",
    "    'QuadraticDiscriminantAnalysis',\n",
    "    'RandomForestClassifier',\n",
    "    'SGDClassifier',\n",
    "    'XGBClassifier'\n",
    "}\n",
    "#totry = {'BaggingClassifier'}"
   ]
  },
  {
   "cell_type": "code",
   "execution_count": null,
   "metadata": {},
   "outputs": [],
   "source": [
    "import os\n",
    "\n",
    "for classifier in classifiers:\n",
    "    classifier_name = type(classifier).__name__    \n",
    "    \n",
    "    #if classifier_name not in totry: continue\n",
    "    print(\"--------\")\n",
    "    print(classifier_name)\n",
    "    \n",
    "    change_dir('genes')\n",
    "    file_name = f'gene_list_{classifier_name}'\n",
    "    genes_model = __import__(file_name).gene_list()\n",
    "    change_dir('..')\n",
    "    \n",
    "    genes = genes_data + genes_model\n",
    "    \n",
    "    params['classifier_name'] = classifier_name\n",
    "    params['classifier'] = classifier\n",
    "    params['hyperparameter_performance_logfile'] = 'hyperparameters/' + classifier_name + '_hyperparameters.csv'\n",
    "    \n",
    "    \n",
    "    # initiera populationen\n",
    "    population = GA.Population(genes, params)\n",
    "    population.printBestIndividuals(3)\n",
    "    \n",
    "    \n",
    "    # börja optimera\n",
    "    N = 10 # Number of generations\n",
    "    mutation_probability = 0.15\n",
    "    for generation in range(N):\n",
    "        print(f'Generation: {generation+1}')\n",
    "\n",
    "        population.breedThePopulation(generation, mutation_probability)\n",
    "\n",
    "        population.printBestIndividuals(3)\n",
    "        print('')\n",
    "\n",
    "        mutation_probability = max(0.05,mutation_probability - 0.2)\n",
    "   \n",
    "    population.printBestIndividuals()\n",
    "    "
   ]
  },
  {
   "cell_type": "code",
   "execution_count": null,
   "metadata": {},
   "outputs": [],
   "source": []
  },
  {
   "cell_type": "code",
   "execution_count": null,
   "metadata": {},
   "outputs": [],
   "source": []
  }
 ],
 "metadata": {
  "kernelspec": {
   "display_name": "Python 3",
   "language": "python",
   "name": "python3"
  },
  "language_info": {
   "codemirror_mode": {
    "name": "ipython",
    "version": 3
   },
   "file_extension": ".py",
   "mimetype": "text/x-python",
   "name": "python",
   "nbconvert_exporter": "python",
   "pygments_lexer": "ipython3",
   "version": "3.7.7"
  }
 },
 "nbformat": 4,
 "nbformat_minor": 4
}
