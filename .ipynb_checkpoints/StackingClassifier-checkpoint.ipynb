{
 "cells": [
  {
   "cell_type": "code",
   "execution_count": 1,
   "metadata": {},
   "outputs": [],
   "source": [
    "import pandas as pd\n",
    "import numpy as np"
   ]
  },
  {
   "cell_type": "code",
   "execution_count": 2,
   "metadata": {},
   "outputs": [],
   "source": [
    "import include.GA_clsData as DA\n",
    "import include.GA_clsModel as MO"
   ]
  },
  {
   "cell_type": "markdown",
   "metadata": {},
   "source": [
    "### Genes and params"
   ]
  },
  {
   "cell_type": "code",
   "execution_count": 3,
   "metadata": {},
   "outputs": [],
   "source": [
    "df = pd.read_csv('hyperparameters/AdaBoostClassifier_hyperparameters.csv')"
   ]
  },
  {
   "cell_type": "code",
   "execution_count": 4,
   "metadata": {},
   "outputs": [],
   "source": [
    "df.sort_values(by='fitness', ascending=False, inplace=True)"
   ]
  },
  {
   "cell_type": "code",
   "execution_count": 5,
   "metadata": {},
   "outputs": [],
   "source": [
    "genes={}\n",
    "for _, row in df.head(1).iterrows():\n",
    "    for col in df.columns:\n",
    "        if col == 'fitness': continue\n",
    "        value = 0\n",
    "        if col[0] == 'i': value = int(row[col])\n",
    "        if col[0] == 'f': value = float(row[col])\n",
    "        genes[col] = value"
   ]
  },
  {
   "cell_type": "code",
   "execution_count": 6,
   "metadata": {},
   "outputs": [],
   "source": [
    "params = []\n",
    "params.append(['periods_away_to_predict',1])\n",
    "params.append(['get_target',True])\n",
    "params.append(['start_new', True])\n",
    "params.append(['initial_population', 1])\n",
    "#params.append(['training_file', 'data/EURUSD_M5_2014-01-01--2014-01-31.csv'])\n",
    "params.append(['training_file', 'data/EURUSD_M5_2014-01-01--2018-12-31.csv'])\n",
    "\n",
    "param_dict = {}\n",
    "for p in params:\n",
    "    param_dict[p[0]] = p[1]\n",
    "params = param_dict"
   ]
  },
  {
   "cell_type": "markdown",
   "metadata": {},
   "source": [
    "### Data"
   ]
  },
  {
   "cell_type": "code",
   "execution_count": 7,
   "metadata": {},
   "outputs": [],
   "source": [
    "data = DA.Data(genes,params)"
   ]
  },
  {
   "cell_type": "code",
   "execution_count": 8,
   "metadata": {},
   "outputs": [],
   "source": [
    "data.getDataSet()"
   ]
  },
  {
   "cell_type": "code",
   "execution_count": 9,
   "metadata": {},
   "outputs": [],
   "source": [
    "data.getXy(number_validations = 10000)"
   ]
  },
  {
   "cell_type": "code",
   "execution_count": 10,
   "metadata": {},
   "outputs": [],
   "source": [
    "X_train = data.X_train\n",
    "X_val = data.X_val\n",
    "\n",
    "y_train = data.y_train\n",
    "y_val = data.y_val"
   ]
  },
  {
   "cell_type": "markdown",
   "metadata": {},
   "source": [
    "### Classifiers"
   ]
  },
  {
   "cell_type": "code",
   "execution_count": 11,
   "metadata": {},
   "outputs": [],
   "source": [
    "import include.Classifiers as cl\n",
    "classifiers = cl.getClassifiers()"
   ]
  },
  {
   "cell_type": "markdown",
   "metadata": {},
   "source": [
    "### Loop through and train"
   ]
  },
  {
   "cell_type": "code",
   "execution_count": 12,
   "metadata": {},
   "outputs": [],
   "source": [
    "totry = {'SVC'}"
   ]
  },
  {
   "cell_type": "code",
   "execution_count": 13,
   "metadata": {},
   "outputs": [
    {
     "name": "stdout",
     "output_type": "stream",
     "text": [
      "Training: AdaBoostClassifier\n",
      "Accuracy: 54.0\n",
      "Training: BaggingClassifier\n",
      "Accuracy: 51.9\n",
      "Training: BernoulliNB\n",
      "Accuracy: 53.2\n",
      "Training: CalibratedClassifierCV\n",
      "Accuracy: 54.6\n",
      "Training: DecisionTreeClassifier\n",
      "Accuracy: 51.2\n",
      "Training: ExtraTreeClassifier\n",
      "Accuracy: 51.0\n",
      "Training: ExtraTreesClassifier\n",
      "Accuracy: 53.2\n",
      "Training: GradientBoostingClassifier\n",
      "Accuracy: 54.7\n",
      "Training: HistGradientBoostingClassifier\n",
      "Accuracy: 54.6\n",
      "Training: KNeighborsClassifier\n",
      "Accuracy: 50.6\n",
      "Training: LinearDiscriminantAnalysis\n",
      "Accuracy: 53.9\n",
      "Training: MLPClassifier\n",
      "Accuracy: 53.9\n",
      "Training: OneVsRestClassifier\n",
      "Accuracy: 54.0\n",
      "Training: QuadraticDiscriminantAnalysis\n"
     ]
    },
    {
     "name": "stderr",
     "output_type": "stream",
     "text": [
      "C:\\Users\\Daniel\\Anaconda3\\lib\\site-packages\\sklearn\\discriminant_analysis.py:715: UserWarning: Variables are collinear\n",
      "  warnings.warn(\"Variables are collinear\")\n"
     ]
    },
    {
     "name": "stdout",
     "output_type": "stream",
     "text": [
      "Accuracy: 50.4\n",
      "Training: RandomForestClassifier\n",
      "Accuracy: 53.2\n",
      "Training: SGDClassifier\n",
      "Accuracy: 49.4\n",
      "Training: XGBClassifier\n",
      "Accuracy: 53.8\n"
     ]
    }
   ],
   "source": [
    "df = pd.DataFrame()\n",
    "target = y_val.reset_index(drop=True)\n",
    "target = [1 if p==True else 0 for p in target]\n",
    "df['target'] = target\n",
    "for classifier in classifiers:\n",
    "    classifier_name = type(classifier).__name__\n",
    "    \n",
    "    #if classifier_name not in totry: continue\n",
    "    \n",
    "    params['classifier_name'] = classifier_name\n",
    "\n",
    "    model = MO.Model(genes, params, data)\n",
    "    accuracy = model.train()\n",
    "    print(f'Accuracy: {accuracy}')\n",
    "    \n",
    "    \n",
    "    try:\n",
    "        #pred = model.classifier.predict_proba(X_val)\n",
    "        #pred = pred[:,0]\n",
    "        pred = model.classifier.predict(X_val)\n",
    "        pred = [1 if p==True else 0 for p in pred]\n",
    "        df[classifier_name] = pred\n",
    "    except:\n",
    "        pass"
   ]
  },
  {
   "cell_type": "code",
   "execution_count": 14,
   "metadata": {},
   "outputs": [
    {
     "data": {
      "text/plain": [
       "(10000, 18)"
      ]
     },
     "execution_count": 14,
     "metadata": {},
     "output_type": "execute_result"
    }
   ],
   "source": [
    "df.shape"
   ]
  },
  {
   "cell_type": "code",
   "execution_count": 15,
   "metadata": {},
   "outputs": [
    {
     "data": {
      "text/html": [
       "<div>\n",
       "<style scoped>\n",
       "    .dataframe tbody tr th:only-of-type {\n",
       "        vertical-align: middle;\n",
       "    }\n",
       "\n",
       "    .dataframe tbody tr th {\n",
       "        vertical-align: top;\n",
       "    }\n",
       "\n",
       "    .dataframe thead th {\n",
       "        text-align: right;\n",
       "    }\n",
       "</style>\n",
       "<table border=\"1\" class=\"dataframe\">\n",
       "  <thead>\n",
       "    <tr style=\"text-align: right;\">\n",
       "      <th></th>\n",
       "      <th>target</th>\n",
       "      <th>AdaBoostClassifier</th>\n",
       "      <th>BaggingClassifier</th>\n",
       "      <th>BernoulliNB</th>\n",
       "      <th>CalibratedClassifierCV</th>\n",
       "      <th>DecisionTreeClassifier</th>\n",
       "      <th>ExtraTreeClassifier</th>\n",
       "      <th>ExtraTreesClassifier</th>\n",
       "      <th>GradientBoostingClassifier</th>\n",
       "      <th>HistGradientBoostingClassifier</th>\n",
       "      <th>KNeighborsClassifier</th>\n",
       "      <th>LinearDiscriminantAnalysis</th>\n",
       "      <th>MLPClassifier</th>\n",
       "      <th>OneVsRestClassifier</th>\n",
       "      <th>QuadraticDiscriminantAnalysis</th>\n",
       "      <th>RandomForestClassifier</th>\n",
       "      <th>SGDClassifier</th>\n",
       "      <th>XGBClassifier</th>\n",
       "    </tr>\n",
       "  </thead>\n",
       "  <tbody>\n",
       "    <tr>\n",
       "      <th>0</th>\n",
       "      <td>0</td>\n",
       "      <td>0</td>\n",
       "      <td>1</td>\n",
       "      <td>0</td>\n",
       "      <td>0</td>\n",
       "      <td>0</td>\n",
       "      <td>0</td>\n",
       "      <td>0</td>\n",
       "      <td>0</td>\n",
       "      <td>0</td>\n",
       "      <td>1</td>\n",
       "      <td>0</td>\n",
       "      <td>0</td>\n",
       "      <td>0</td>\n",
       "      <td>1</td>\n",
       "      <td>0</td>\n",
       "      <td>0</td>\n",
       "      <td>0</td>\n",
       "    </tr>\n",
       "    <tr>\n",
       "      <th>1</th>\n",
       "      <td>1</td>\n",
       "      <td>1</td>\n",
       "      <td>0</td>\n",
       "      <td>1</td>\n",
       "      <td>1</td>\n",
       "      <td>1</td>\n",
       "      <td>0</td>\n",
       "      <td>1</td>\n",
       "      <td>1</td>\n",
       "      <td>1</td>\n",
       "      <td>1</td>\n",
       "      <td>1</td>\n",
       "      <td>1</td>\n",
       "      <td>1</td>\n",
       "      <td>1</td>\n",
       "      <td>1</td>\n",
       "      <td>0</td>\n",
       "      <td>1</td>\n",
       "    </tr>\n",
       "    <tr>\n",
       "      <th>2</th>\n",
       "      <td>0</td>\n",
       "      <td>1</td>\n",
       "      <td>0</td>\n",
       "      <td>0</td>\n",
       "      <td>1</td>\n",
       "      <td>0</td>\n",
       "      <td>1</td>\n",
       "      <td>1</td>\n",
       "      <td>0</td>\n",
       "      <td>0</td>\n",
       "      <td>1</td>\n",
       "      <td>1</td>\n",
       "      <td>1</td>\n",
       "      <td>1</td>\n",
       "      <td>1</td>\n",
       "      <td>1</td>\n",
       "      <td>0</td>\n",
       "      <td>0</td>\n",
       "    </tr>\n",
       "    <tr>\n",
       "      <th>3</th>\n",
       "      <td>0</td>\n",
       "      <td>0</td>\n",
       "      <td>0</td>\n",
       "      <td>0</td>\n",
       "      <td>1</td>\n",
       "      <td>0</td>\n",
       "      <td>0</td>\n",
       "      <td>0</td>\n",
       "      <td>1</td>\n",
       "      <td>1</td>\n",
       "      <td>1</td>\n",
       "      <td>0</td>\n",
       "      <td>1</td>\n",
       "      <td>0</td>\n",
       "      <td>1</td>\n",
       "      <td>1</td>\n",
       "      <td>1</td>\n",
       "      <td>0</td>\n",
       "    </tr>\n",
       "    <tr>\n",
       "      <th>4</th>\n",
       "      <td>1</td>\n",
       "      <td>1</td>\n",
       "      <td>0</td>\n",
       "      <td>1</td>\n",
       "      <td>1</td>\n",
       "      <td>1</td>\n",
       "      <td>1</td>\n",
       "      <td>0</td>\n",
       "      <td>1</td>\n",
       "      <td>1</td>\n",
       "      <td>0</td>\n",
       "      <td>1</td>\n",
       "      <td>1</td>\n",
       "      <td>1</td>\n",
       "      <td>1</td>\n",
       "      <td>1</td>\n",
       "      <td>1</td>\n",
       "      <td>1</td>\n",
       "    </tr>\n",
       "  </tbody>\n",
       "</table>\n",
       "</div>"
      ],
      "text/plain": [
       "   target  AdaBoostClassifier  BaggingClassifier  BernoulliNB  \\\n",
       "0       0                   0                  1            0   \n",
       "1       1                   1                  0            1   \n",
       "2       0                   1                  0            0   \n",
       "3       0                   0                  0            0   \n",
       "4       1                   1                  0            1   \n",
       "\n",
       "   CalibratedClassifierCV  DecisionTreeClassifier  ExtraTreeClassifier  \\\n",
       "0                       0                       0                    0   \n",
       "1                       1                       1                    0   \n",
       "2                       1                       0                    1   \n",
       "3                       1                       0                    0   \n",
       "4                       1                       1                    1   \n",
       "\n",
       "   ExtraTreesClassifier  GradientBoostingClassifier  \\\n",
       "0                     0                           0   \n",
       "1                     1                           1   \n",
       "2                     1                           0   \n",
       "3                     0                           1   \n",
       "4                     0                           1   \n",
       "\n",
       "   HistGradientBoostingClassifier  KNeighborsClassifier  \\\n",
       "0                               0                     1   \n",
       "1                               1                     1   \n",
       "2                               0                     1   \n",
       "3                               1                     1   \n",
       "4                               1                     0   \n",
       "\n",
       "   LinearDiscriminantAnalysis  MLPClassifier  OneVsRestClassifier  \\\n",
       "0                           0              0                    0   \n",
       "1                           1              1                    1   \n",
       "2                           1              1                    1   \n",
       "3                           0              1                    0   \n",
       "4                           1              1                    1   \n",
       "\n",
       "   QuadraticDiscriminantAnalysis  RandomForestClassifier  SGDClassifier  \\\n",
       "0                              1                       0              0   \n",
       "1                              1                       1              0   \n",
       "2                              1                       1              0   \n",
       "3                              1                       1              1   \n",
       "4                              1                       1              1   \n",
       "\n",
       "   XGBClassifier  \n",
       "0              0  \n",
       "1              1  \n",
       "2              0  \n",
       "3              0  \n",
       "4              1  "
      ]
     },
     "execution_count": 15,
     "metadata": {},
     "output_type": "execute_result"
    }
   ],
   "source": [
    "df.head()"
   ]
  },
  {
   "cell_type": "code",
   "execution_count": 16,
   "metadata": {},
   "outputs": [
    {
     "data": {
      "text/html": [
       "<div>\n",
       "<style scoped>\n",
       "    .dataframe tbody tr th:only-of-type {\n",
       "        vertical-align: middle;\n",
       "    }\n",
       "\n",
       "    .dataframe tbody tr th {\n",
       "        vertical-align: top;\n",
       "    }\n",
       "\n",
       "    .dataframe thead th {\n",
       "        text-align: right;\n",
       "    }\n",
       "</style>\n",
       "<table border=\"1\" class=\"dataframe\">\n",
       "  <thead>\n",
       "    <tr style=\"text-align: right;\">\n",
       "      <th></th>\n",
       "      <th>target</th>\n",
       "      <th>AdaBoostClassifier</th>\n",
       "      <th>BaggingClassifier</th>\n",
       "      <th>BernoulliNB</th>\n",
       "      <th>CalibratedClassifierCV</th>\n",
       "      <th>DecisionTreeClassifier</th>\n",
       "      <th>ExtraTreeClassifier</th>\n",
       "      <th>ExtraTreesClassifier</th>\n",
       "      <th>GradientBoostingClassifier</th>\n",
       "      <th>HistGradientBoostingClassifier</th>\n",
       "      <th>KNeighborsClassifier</th>\n",
       "      <th>LinearDiscriminantAnalysis</th>\n",
       "      <th>MLPClassifier</th>\n",
       "      <th>OneVsRestClassifier</th>\n",
       "      <th>QuadraticDiscriminantAnalysis</th>\n",
       "      <th>RandomForestClassifier</th>\n",
       "      <th>SGDClassifier</th>\n",
       "      <th>XGBClassifier</th>\n",
       "    </tr>\n",
       "  </thead>\n",
       "  <tbody>\n",
       "    <tr>\n",
       "      <th>count</th>\n",
       "      <td>10000.000000</td>\n",
       "      <td>10000.000000</td>\n",
       "      <td>10000.000000</td>\n",
       "      <td>10000.000000</td>\n",
       "      <td>10000.000000</td>\n",
       "      <td>10000.000000</td>\n",
       "      <td>10000.000000</td>\n",
       "      <td>10000.000000</td>\n",
       "      <td>10000.000000</td>\n",
       "      <td>10000.000000</td>\n",
       "      <td>10000.000000</td>\n",
       "      <td>10000.0000</td>\n",
       "      <td>10000.00000</td>\n",
       "      <td>10000.000000</td>\n",
       "      <td>10000.000000</td>\n",
       "      <td>10000.000000</td>\n",
       "      <td>10000.000000</td>\n",
       "      <td>10000.000000</td>\n",
       "    </tr>\n",
       "    <tr>\n",
       "      <th>mean</th>\n",
       "      <td>0.498600</td>\n",
       "      <td>0.485400</td>\n",
       "      <td>0.381100</td>\n",
       "      <td>0.501400</td>\n",
       "      <td>0.483400</td>\n",
       "      <td>0.494800</td>\n",
       "      <td>0.498400</td>\n",
       "      <td>0.453900</td>\n",
       "      <td>0.456200</td>\n",
       "      <td>0.438200</td>\n",
       "      <td>0.497200</td>\n",
       "      <td>0.5112</td>\n",
       "      <td>0.49330</td>\n",
       "      <td>0.485400</td>\n",
       "      <td>0.893900</td>\n",
       "      <td>0.446900</td>\n",
       "      <td>0.487000</td>\n",
       "      <td>0.468100</td>\n",
       "    </tr>\n",
       "    <tr>\n",
       "      <th>std</th>\n",
       "      <td>0.500023</td>\n",
       "      <td>0.499812</td>\n",
       "      <td>0.485681</td>\n",
       "      <td>0.500023</td>\n",
       "      <td>0.499749</td>\n",
       "      <td>0.499998</td>\n",
       "      <td>0.500022</td>\n",
       "      <td>0.497895</td>\n",
       "      <td>0.498103</td>\n",
       "      <td>0.496191</td>\n",
       "      <td>0.500017</td>\n",
       "      <td>0.4999</td>\n",
       "      <td>0.49998</td>\n",
       "      <td>0.499812</td>\n",
       "      <td>0.307981</td>\n",
       "      <td>0.497197</td>\n",
       "      <td>0.499856</td>\n",
       "      <td>0.499006</td>\n",
       "    </tr>\n",
       "    <tr>\n",
       "      <th>min</th>\n",
       "      <td>0.000000</td>\n",
       "      <td>0.000000</td>\n",
       "      <td>0.000000</td>\n",
       "      <td>0.000000</td>\n",
       "      <td>0.000000</td>\n",
       "      <td>0.000000</td>\n",
       "      <td>0.000000</td>\n",
       "      <td>0.000000</td>\n",
       "      <td>0.000000</td>\n",
       "      <td>0.000000</td>\n",
       "      <td>0.000000</td>\n",
       "      <td>0.0000</td>\n",
       "      <td>0.00000</td>\n",
       "      <td>0.000000</td>\n",
       "      <td>0.000000</td>\n",
       "      <td>0.000000</td>\n",
       "      <td>0.000000</td>\n",
       "      <td>0.000000</td>\n",
       "    </tr>\n",
       "    <tr>\n",
       "      <th>25%</th>\n",
       "      <td>0.000000</td>\n",
       "      <td>0.000000</td>\n",
       "      <td>0.000000</td>\n",
       "      <td>0.000000</td>\n",
       "      <td>0.000000</td>\n",
       "      <td>0.000000</td>\n",
       "      <td>0.000000</td>\n",
       "      <td>0.000000</td>\n",
       "      <td>0.000000</td>\n",
       "      <td>0.000000</td>\n",
       "      <td>0.000000</td>\n",
       "      <td>0.0000</td>\n",
       "      <td>0.00000</td>\n",
       "      <td>0.000000</td>\n",
       "      <td>1.000000</td>\n",
       "      <td>0.000000</td>\n",
       "      <td>0.000000</td>\n",
       "      <td>0.000000</td>\n",
       "    </tr>\n",
       "    <tr>\n",
       "      <th>50%</th>\n",
       "      <td>0.000000</td>\n",
       "      <td>0.000000</td>\n",
       "      <td>0.000000</td>\n",
       "      <td>1.000000</td>\n",
       "      <td>0.000000</td>\n",
       "      <td>0.000000</td>\n",
       "      <td>0.000000</td>\n",
       "      <td>0.000000</td>\n",
       "      <td>0.000000</td>\n",
       "      <td>0.000000</td>\n",
       "      <td>0.000000</td>\n",
       "      <td>1.0000</td>\n",
       "      <td>0.00000</td>\n",
       "      <td>0.000000</td>\n",
       "      <td>1.000000</td>\n",
       "      <td>0.000000</td>\n",
       "      <td>0.000000</td>\n",
       "      <td>0.000000</td>\n",
       "    </tr>\n",
       "    <tr>\n",
       "      <th>75%</th>\n",
       "      <td>1.000000</td>\n",
       "      <td>1.000000</td>\n",
       "      <td>1.000000</td>\n",
       "      <td>1.000000</td>\n",
       "      <td>1.000000</td>\n",
       "      <td>1.000000</td>\n",
       "      <td>1.000000</td>\n",
       "      <td>1.000000</td>\n",
       "      <td>1.000000</td>\n",
       "      <td>1.000000</td>\n",
       "      <td>1.000000</td>\n",
       "      <td>1.0000</td>\n",
       "      <td>1.00000</td>\n",
       "      <td>1.000000</td>\n",
       "      <td>1.000000</td>\n",
       "      <td>1.000000</td>\n",
       "      <td>1.000000</td>\n",
       "      <td>1.000000</td>\n",
       "    </tr>\n",
       "    <tr>\n",
       "      <th>max</th>\n",
       "      <td>1.000000</td>\n",
       "      <td>1.000000</td>\n",
       "      <td>1.000000</td>\n",
       "      <td>1.000000</td>\n",
       "      <td>1.000000</td>\n",
       "      <td>1.000000</td>\n",
       "      <td>1.000000</td>\n",
       "      <td>1.000000</td>\n",
       "      <td>1.000000</td>\n",
       "      <td>1.000000</td>\n",
       "      <td>1.000000</td>\n",
       "      <td>1.0000</td>\n",
       "      <td>1.00000</td>\n",
       "      <td>1.000000</td>\n",
       "      <td>1.000000</td>\n",
       "      <td>1.000000</td>\n",
       "      <td>1.000000</td>\n",
       "      <td>1.000000</td>\n",
       "    </tr>\n",
       "  </tbody>\n",
       "</table>\n",
       "</div>"
      ],
      "text/plain": [
       "             target  AdaBoostClassifier  BaggingClassifier   BernoulliNB  \\\n",
       "count  10000.000000        10000.000000       10000.000000  10000.000000   \n",
       "mean       0.498600            0.485400           0.381100      0.501400   \n",
       "std        0.500023            0.499812           0.485681      0.500023   \n",
       "min        0.000000            0.000000           0.000000      0.000000   \n",
       "25%        0.000000            0.000000           0.000000      0.000000   \n",
       "50%        0.000000            0.000000           0.000000      1.000000   \n",
       "75%        1.000000            1.000000           1.000000      1.000000   \n",
       "max        1.000000            1.000000           1.000000      1.000000   \n",
       "\n",
       "       CalibratedClassifierCV  DecisionTreeClassifier  ExtraTreeClassifier  \\\n",
       "count            10000.000000            10000.000000         10000.000000   \n",
       "mean                 0.483400                0.494800             0.498400   \n",
       "std                  0.499749                0.499998             0.500022   \n",
       "min                  0.000000                0.000000             0.000000   \n",
       "25%                  0.000000                0.000000             0.000000   \n",
       "50%                  0.000000                0.000000             0.000000   \n",
       "75%                  1.000000                1.000000             1.000000   \n",
       "max                  1.000000                1.000000             1.000000   \n",
       "\n",
       "       ExtraTreesClassifier  GradientBoostingClassifier  \\\n",
       "count          10000.000000                10000.000000   \n",
       "mean               0.453900                    0.456200   \n",
       "std                0.497895                    0.498103   \n",
       "min                0.000000                    0.000000   \n",
       "25%                0.000000                    0.000000   \n",
       "50%                0.000000                    0.000000   \n",
       "75%                1.000000                    1.000000   \n",
       "max                1.000000                    1.000000   \n",
       "\n",
       "       HistGradientBoostingClassifier  KNeighborsClassifier  \\\n",
       "count                    10000.000000          10000.000000   \n",
       "mean                         0.438200              0.497200   \n",
       "std                          0.496191              0.500017   \n",
       "min                          0.000000              0.000000   \n",
       "25%                          0.000000              0.000000   \n",
       "50%                          0.000000              0.000000   \n",
       "75%                          1.000000              1.000000   \n",
       "max                          1.000000              1.000000   \n",
       "\n",
       "       LinearDiscriminantAnalysis  MLPClassifier  OneVsRestClassifier  \\\n",
       "count                  10000.0000    10000.00000         10000.000000   \n",
       "mean                       0.5112        0.49330             0.485400   \n",
       "std                        0.4999        0.49998             0.499812   \n",
       "min                        0.0000        0.00000             0.000000   \n",
       "25%                        0.0000        0.00000             0.000000   \n",
       "50%                        1.0000        0.00000             0.000000   \n",
       "75%                        1.0000        1.00000             1.000000   \n",
       "max                        1.0000        1.00000             1.000000   \n",
       "\n",
       "       QuadraticDiscriminantAnalysis  RandomForestClassifier  SGDClassifier  \\\n",
       "count                   10000.000000            10000.000000   10000.000000   \n",
       "mean                        0.893900                0.446900       0.487000   \n",
       "std                         0.307981                0.497197       0.499856   \n",
       "min                         0.000000                0.000000       0.000000   \n",
       "25%                         1.000000                0.000000       0.000000   \n",
       "50%                         1.000000                0.000000       0.000000   \n",
       "75%                         1.000000                1.000000       1.000000   \n",
       "max                         1.000000                1.000000       1.000000   \n",
       "\n",
       "       XGBClassifier  \n",
       "count   10000.000000  \n",
       "mean        0.468100  \n",
       "std         0.499006  \n",
       "min         0.000000  \n",
       "25%         0.000000  \n",
       "50%         0.000000  \n",
       "75%         1.000000  \n",
       "max         1.000000  "
      ]
     },
     "execution_count": 16,
     "metadata": {},
     "output_type": "execute_result"
    }
   ],
   "source": [
    "df.describe()"
   ]
  },
  {
   "cell_type": "code",
   "execution_count": 17,
   "metadata": {},
   "outputs": [
    {
     "data": {
      "text/plain": [
       "Index(['target', 'AdaBoostClassifier', 'BaggingClassifier', 'BernoulliNB',\n",
       "       'CalibratedClassifierCV', 'DecisionTreeClassifier',\n",
       "       'ExtraTreeClassifier', 'ExtraTreesClassifier',\n",
       "       'GradientBoostingClassifier', 'HistGradientBoostingClassifier',\n",
       "       'KNeighborsClassifier', 'LinearDiscriminantAnalysis', 'MLPClassifier',\n",
       "       'OneVsRestClassifier', 'QuadraticDiscriminantAnalysis',\n",
       "       'RandomForestClassifier', 'SGDClassifier', 'XGBClassifier'],\n",
       "      dtype='object')"
      ]
     },
     "execution_count": 17,
     "metadata": {},
     "output_type": "execute_result"
    }
   ],
   "source": [
    "df.columns"
   ]
  },
  {
   "cell_type": "code",
   "execution_count": 18,
   "metadata": {},
   "outputs": [],
   "source": [
    "df_true = df[df['target']==1]\n",
    "df_false = df[df['target']==0]\n",
    "\n",
    "ix = min(df_true.shape[0], df_false.shape[0])\n",
    "df_true = df_true.head(ix)\n",
    "df_false = df_false.head(ix)\n",
    "\n",
    "df = pd.concat([df_true, df_false], axis=0)\n",
    "df = df.sample(frac = 1)\n",
    "\n",
    "df.reset_index(drop=True,inplace=True)"
   ]
  },
  {
   "cell_type": "code",
   "execution_count": 19,
   "metadata": {},
   "outputs": [
    {
     "data": {
      "text/plain": [
       "(9972, 18)"
      ]
     },
     "execution_count": 19,
     "metadata": {},
     "output_type": "execute_result"
    }
   ],
   "source": [
    "df.shape"
   ]
  },
  {
   "cell_type": "code",
   "execution_count": null,
   "metadata": {},
   "outputs": [],
   "source": [
    "df.to_csv('model_preds.csv', index=False)"
   ]
  },
  {
   "cell_type": "code",
   "execution_count": 20,
   "metadata": {},
   "outputs": [],
   "source": [
    "import xgboost as xgb\n",
    "from sklearn.model_selection import train_test_split\n",
    "\n",
    "from sklearn.metrics import accuracy_score"
   ]
  },
  {
   "cell_type": "code",
   "execution_count": 21,
   "metadata": {},
   "outputs": [],
   "source": [
    "X = df.drop('target', axis=1)\n",
    "y = df['target']"
   ]
  },
  {
   "cell_type": "code",
   "execution_count": 22,
   "metadata": {},
   "outputs": [],
   "source": [
    "X_train, X_val, y_train, y_val = train_test_split(X, y)"
   ]
  },
  {
   "cell_type": "code",
   "execution_count": 23,
   "metadata": {},
   "outputs": [],
   "source": [
    "model = xgb.XGBClassifier()"
   ]
  },
  {
   "cell_type": "code",
   "execution_count": 24,
   "metadata": {},
   "outputs": [
    {
     "data": {
      "text/plain": [
       "XGBClassifier(base_score=0.5, booster='gbtree', colsample_bylevel=1,\n",
       "              colsample_bynode=1, colsample_bytree=1, gamma=0, gpu_id=-1,\n",
       "              importance_type='gain', interaction_constraints='',\n",
       "              learning_rate=0.300000012, max_delta_step=0, max_depth=6,\n",
       "              min_child_weight=1, missing=nan, monotone_constraints='()',\n",
       "              n_estimators=100, n_jobs=0, num_parallel_tree=1, random_state=0,\n",
       "              reg_alpha=0, reg_lambda=1, scale_pos_weight=1, subsample=1,\n",
       "              tree_method='exact', validate_parameters=1, verbosity=None)"
      ]
     },
     "execution_count": 24,
     "metadata": {},
     "output_type": "execute_result"
    }
   ],
   "source": [
    "model.fit(X_train, y_train)"
   ]
  },
  {
   "cell_type": "code",
   "execution_count": 25,
   "metadata": {},
   "outputs": [],
   "source": [
    "pred = model.predict(X_val)"
   ]
  },
  {
   "cell_type": "code",
   "execution_count": 26,
   "metadata": {},
   "outputs": [
    {
     "name": "stdout",
     "output_type": "stream",
     "text": [
      "52.8\n"
     ]
    }
   ],
   "source": [
    "acc = np.float(f'{accuracy_score(y_val, pred) * 100:0.1f}')\n",
    "print(acc)"
   ]
  },
  {
   "cell_type": "code",
   "execution_count": null,
   "metadata": {},
   "outputs": [],
   "source": []
  }
 ],
 "metadata": {
  "kernelspec": {
   "display_name": "Python 3",
   "language": "python",
   "name": "python3"
  },
  "language_info": {
   "codemirror_mode": {
    "name": "ipython",
    "version": 3
   },
   "file_extension": ".py",
   "mimetype": "text/x-python",
   "name": "python",
   "nbconvert_exporter": "python",
   "pygments_lexer": "ipython3",
   "version": "3.7.7"
  }
 },
 "nbformat": 4,
 "nbformat_minor": 4
}
