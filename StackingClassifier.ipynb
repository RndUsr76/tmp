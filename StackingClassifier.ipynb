{
 "cells": [
  {
   "cell_type": "code",
   "execution_count": 1,
   "metadata": {},
   "outputs": [],
   "source": [
    "import pandas as pd\n",
    "import numpy as np"
   ]
  },
  {
   "cell_type": "code",
   "execution_count": 2,
   "metadata": {},
   "outputs": [],
   "source": [
    "import include.GA_clsData as DA\n",
    "import include.GA_clsModel as MO"
   ]
  },
  {
   "cell_type": "markdown",
   "metadata": {},
   "source": [
    "### Genes and params"
   ]
  },
  {
   "cell_type": "code",
   "execution_count": 3,
   "metadata": {},
   "outputs": [],
   "source": [
    "df = pd.read_csv('hyperparameters/AdaBoostClassifier_hyperparameters.csv')"
   ]
  },
  {
   "cell_type": "code",
   "execution_count": 4,
   "metadata": {},
   "outputs": [],
   "source": [
    "df.sort_values(by='fitness', ascending=False, inplace=True)"
   ]
  },
  {
   "cell_type": "code",
   "execution_count": 5,
   "metadata": {},
   "outputs": [],
   "source": [
    "genes={}\n",
    "for _, row in df.head(1).iterrows():\n",
    "    for col in df.columns:\n",
    "        if col == 'fitness': continue\n",
    "        value = 0\n",
    "        if col[0] == 'i': value = int(row[col])\n",
    "        if col[0] == 'f': value = float(row[col])\n",
    "        genes[col] = value"
   ]
  },
  {
   "cell_type": "code",
   "execution_count": 6,
   "metadata": {},
   "outputs": [],
   "source": [
    "params = []\n",
    "params.append(['periods_away_to_predict',1])\n",
    "params.append(['get_target',True])\n",
    "params.append(['start_new', True])\n",
    "params.append(['initial_population', 1])\n",
    "#params.append(['training_file', 'data/EURUSD_M5_2014-01-01--2014-01-31.csv'])\n",
    "params.append(['training_file', 'data/EURUSD_M5_2014-01-01--2018-12-31.csv'])\n",
    "\n",
    "param_dict = {}\n",
    "for p in params:\n",
    "    param_dict[p[0]] = p[1]\n",
    "params = param_dict"
   ]
  },
  {
   "cell_type": "markdown",
   "metadata": {},
   "source": [
    "### Data"
   ]
  },
  {
   "cell_type": "code",
   "execution_count": 7,
   "metadata": {},
   "outputs": [],
   "source": [
    "data = DA.Data(genes,params)"
   ]
  },
  {
   "cell_type": "code",
   "execution_count": 8,
   "metadata": {},
   "outputs": [],
   "source": [
    "data.getDataSet()"
   ]
  },
  {
   "cell_type": "code",
   "execution_count": 9,
   "metadata": {},
   "outputs": [],
   "source": [
    "data.getXy(number_validations = 10000)"
   ]
  },
  {
   "cell_type": "code",
   "execution_count": 10,
   "metadata": {},
   "outputs": [],
   "source": [
    "X_train = data.X_train\n",
    "X_val = data.X_val\n",
    "\n",
    "y_train = data.y_train\n",
    "y_val = data.y_val"
   ]
  },
  {
   "cell_type": "markdown",
   "metadata": {},
   "source": [
    "### Classifiers"
   ]
  },
  {
   "cell_type": "code",
   "execution_count": 11,
   "metadata": {},
   "outputs": [],
   "source": [
    "import include.Classifiers as cl\n",
    "classifiers = cl.getClassifiers()"
   ]
  },
  {
   "cell_type": "markdown",
   "metadata": {},
   "source": [
    "### Loop through and train"
   ]
  },
  {
   "cell_type": "code",
   "execution_count": 12,
   "metadata": {},
   "outputs": [],
   "source": [
    "totry = {'SVC'}"
   ]
  },
  {
   "cell_type": "code",
   "execution_count": null,
   "metadata": {},
   "outputs": [
    {
     "name": "stdout",
     "output_type": "stream",
     "text": [
      "Training: AdaBoostClassifier\n",
      "Accuracy: 53.5\n",
      "Training: BaggingClassifier\n",
      "Accuracy: 52.0\n",
      "Training: BernoulliNB\n",
      "Accuracy: 52.7\n",
      "Training: CalibratedClassifierCV\n",
      "Accuracy: 53.5\n",
      "Training: DecisionTreeClassifier\n",
      "Accuracy: 51.2\n",
      "Training: ExtraTreeClassifier\n",
      "Accuracy: 51.0\n",
      "Training: ExtraTreesClassifier\n",
      "Accuracy: 54.1\n",
      "Training: GradientBoostingClassifier\n"
     ]
    }
   ],
   "source": [
    "df = pd.DataFrame()\n",
    "target = y_val.reset_index(drop=True)\n",
    "target = [1 if p==True else 0 for p in target]\n",
    "df['target'] = target\n",
    "for classifier in classifiers:\n",
    "    classifier_name = type(classifier).__name__\n",
    "    \n",
    "    #if classifier_name not in totry: continue\n",
    "    \n",
    "    params['classifier_name'] = classifier_name\n",
    "\n",
    "    model = MO.Model(genes, params, data)\n",
    "    accuracy = model.train()\n",
    "    print(f'Accuracy: {accuracy}')\n",
    "    \n",
    "    \n",
    "    try:\n",
    "        #pred = model.classifier.predict_proba(X_val)\n",
    "        #pred = pred[:,0]\n",
    "        pred = model.classifier.predict(X_val)\n",
    "        pred = [1 if p==True else 0 for p in pred]\n",
    "        df[classifier_name] = pred\n",
    "    except:\n",
    "        pass"
   ]
  },
  {
   "cell_type": "code",
   "execution_count": null,
   "metadata": {},
   "outputs": [],
   "source": [
    "df.shape"
   ]
  },
  {
   "cell_type": "code",
   "execution_count": null,
   "metadata": {},
   "outputs": [],
   "source": [
    "df.head()"
   ]
  },
  {
   "cell_type": "code",
   "execution_count": null,
   "metadata": {},
   "outputs": [],
   "source": [
    "df.describe()"
   ]
  },
  {
   "cell_type": "code",
   "execution_count": null,
   "metadata": {},
   "outputs": [],
   "source": [
    "df.columns"
   ]
  },
  {
   "cell_type": "code",
   "execution_count": null,
   "metadata": {},
   "outputs": [],
   "source": [
    "df_true = df[df['target']==1]\n",
    "df_false = df[df['target']==0]\n",
    "\n",
    "ix = min(df_true.shape[0], df_false.shape[0])\n",
    "df_true = df_true.head(ix)\n",
    "df_false = df_false.head(ix)\n",
    "\n",
    "df = pd.concat([df_true, df_false], axis=0)\n",
    "df = df.sample(frac = 1)\n",
    "\n",
    "df.reset_index(drop=True,inplace=True)"
   ]
  },
  {
   "cell_type": "code",
   "execution_count": null,
   "metadata": {},
   "outputs": [],
   "source": [
    "df.shape"
   ]
  },
  {
   "cell_type": "code",
   "execution_count": null,
   "metadata": {},
   "outputs": [],
   "source": [
    "df.to_csv('model_preds.csv', index=False)"
   ]
  },
  {
   "cell_type": "code",
   "execution_count": null,
   "metadata": {},
   "outputs": [],
   "source": [
    "import xgboost as xgb\n",
    "from sklearn.model_selection import train_test_split\n",
    "\n",
    "from sklearn.metrics import accuracy_score"
   ]
  },
  {
   "cell_type": "code",
   "execution_count": null,
   "metadata": {},
   "outputs": [],
   "source": [
    "X = df.drop('target', axis=1)\n",
    "y = df['target']"
   ]
  },
  {
   "cell_type": "code",
   "execution_count": null,
   "metadata": {},
   "outputs": [],
   "source": [
    "X_train, X_val, y_train, y_val = train_test_split(X, y)"
   ]
  },
  {
   "cell_type": "code",
   "execution_count": null,
   "metadata": {},
   "outputs": [],
   "source": [
    "model = xgb.XGBClassifier()"
   ]
  },
  {
   "cell_type": "code",
   "execution_count": null,
   "metadata": {},
   "outputs": [],
   "source": [
    "model.fit(X_train, y_train)"
   ]
  },
  {
   "cell_type": "code",
   "execution_count": null,
   "metadata": {},
   "outputs": [],
   "source": [
    "pred = model.predict(X_val)"
   ]
  },
  {
   "cell_type": "code",
   "execution_count": null,
   "metadata": {},
   "outputs": [],
   "source": [
    "acc = np.float(f'{accuracy_score(y_val, pred) * 100:0.1f}')\n",
    "print(acc)"
   ]
  },
  {
   "cell_type": "code",
   "execution_count": null,
   "metadata": {},
   "outputs": [],
   "source": []
  }
 ],
 "metadata": {
  "kernelspec": {
   "display_name": "Python 3",
   "language": "python",
   "name": "python3"
  },
  "language_info": {
   "codemirror_mode": {
    "name": "ipython",
    "version": 3
   },
   "file_extension": ".py",
   "mimetype": "text/x-python",
   "name": "python",
   "nbconvert_exporter": "python",
   "pygments_lexer": "ipython3",
   "version": "3.7.7"
  }
 },
 "nbformat": 4,
 "nbformat_minor": 4
}
