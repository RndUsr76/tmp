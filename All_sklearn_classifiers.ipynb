{
 "cells": [
  {
   "cell_type": "code",
   "execution_count": 3,
   "metadata": {},
   "outputs": [],
   "source": [
    "import sklearn\n",
    "from sklearn.utils import all_estimators\n",
    "\n",
    "estimators = all_estimators()\n",
    "\n",
    "str_classifiers = []\n",
    "\n",
    "for name, _class_ in estimators:\n",
    "    if hasattr(_class_, 'predict_proba'):\n",
    "        a = str(_class_)\n",
    "        a = a.split(\"'\")\n",
    "        str_classifiers.append(a[1])"
   ]
  },
  {
   "cell_type": "code",
   "execution_count": 4,
   "metadata": {},
   "outputs": [
    {
     "data": {
      "text/plain": [
       "['sklearn.ensemble._weight_boosting.AdaBoostClassifier',\n",
       " 'sklearn.ensemble._bagging.BaggingClassifier',\n",
       " 'sklearn.mixture._bayesian_mixture.BayesianGaussianMixture',\n",
       " 'sklearn.naive_bayes.BernoulliNB',\n",
       " 'sklearn.calibration.CalibratedClassifierCV',\n",
       " 'sklearn.naive_bayes.CategoricalNB',\n",
       " 'sklearn.multioutput.ClassifierChain',\n",
       " 'sklearn.naive_bayes.ComplementNB',\n",
       " 'sklearn.tree._classes.DecisionTreeClassifier',\n",
       " 'sklearn.dummy.DummyClassifier',\n",
       " 'sklearn.tree._classes.ExtraTreeClassifier',\n",
       " 'sklearn.ensemble._forest.ExtraTreesClassifier',\n",
       " 'sklearn.mixture._gaussian_mixture.GaussianMixture',\n",
       " 'sklearn.naive_bayes.GaussianNB',\n",
       " 'sklearn.gaussian_process._gpc.GaussianProcessClassifier',\n",
       " 'sklearn.ensemble._gb.GradientBoostingClassifier',\n",
       " 'sklearn.model_selection._search.GridSearchCV',\n",
       " 'sklearn.ensemble._hist_gradient_boosting.gradient_boosting.HistGradientBoostingClassifier',\n",
       " 'sklearn.neighbors._classification.KNeighborsClassifier',\n",
       " 'sklearn.semi_supervised._label_propagation.LabelPropagation',\n",
       " 'sklearn.semi_supervised._label_propagation.LabelSpreading',\n",
       " 'sklearn.discriminant_analysis.LinearDiscriminantAnalysis',\n",
       " 'sklearn.linear_model._logistic.LogisticRegression',\n",
       " 'sklearn.linear_model._logistic.LogisticRegressionCV',\n",
       " 'sklearn.neural_network._multilayer_perceptron.MLPClassifier',\n",
       " 'sklearn.multioutput.MultiOutputClassifier',\n",
       " 'sklearn.naive_bayes.MultinomialNB',\n",
       " 'sklearn.svm._classes.NuSVC',\n",
       " 'sklearn.multiclass.OneVsRestClassifier',\n",
       " 'sklearn.pipeline.Pipeline',\n",
       " 'sklearn.discriminant_analysis.QuadraticDiscriminantAnalysis',\n",
       " 'sklearn.feature_selection._rfe.RFE',\n",
       " 'sklearn.feature_selection._rfe.RFECV',\n",
       " 'sklearn.neighbors._classification.RadiusNeighborsClassifier',\n",
       " 'sklearn.ensemble._forest.RandomForestClassifier',\n",
       " 'sklearn.model_selection._search.RandomizedSearchCV',\n",
       " 'sklearn.linear_model._stochastic_gradient.SGDClassifier',\n",
       " 'sklearn.svm._classes.SVC',\n",
       " 'sklearn.ensemble._stacking.StackingClassifier',\n",
       " 'sklearn.ensemble._voting.VotingClassifier']"
      ]
     },
     "execution_count": 4,
     "metadata": {},
     "output_type": "execute_result"
    }
   ],
   "source": [
    "str_classifiers"
   ]
  },
  {
   "cell_type": "code",
   "execution_count": 2,
   "metadata": {},
   "outputs": [],
   "source": [
    "classifiers=[]\n",
    "classifiers.append(sklearn.ensemble._weight_boosting.AdaBoostClassifier)\n",
    "classifiers.append(sklearn.ensemble._bagging.BaggingClassifier)\n",
    "classifiers.append(sklearn.mixture._bayesian_mixture.BayesianGaussianMixture)\n",
    "\n",
    "#classifiers.append()"
   ]
  },
  {
   "cell_type": "code",
   "execution_count": null,
   "metadata": {},
   "outputs": [],
   "source": [
    "c0 = classifiers[0]"
   ]
  },
  {
   "cell_type": "code",
   "execution_count": 11,
   "metadata": {},
   "outputs": [
    {
     "name": "stdout",
     "output_type": "stream",
     "text": [
      "#classifiers.append(sklearn.ensemble._weight_boosting.AdaBoostClassifier())\n",
      "#classifiers.append(sklearn.ensemble._bagging.BaggingClassifier())\n",
      "#classifiers.append(sklearn.mixture._bayesian_mixture.BayesianGaussianMixture())\n",
      "#classifiers.append(sklearn.naive_bayes.BernoulliNB())\n",
      "#classifiers.append(sklearn.calibration.CalibratedClassifierCV())\n",
      "#classifiers.append(sklearn.naive_bayes.CategoricalNB())\n",
      "#classifiers.append(sklearn.multioutput.ClassifierChain())\n",
      "#classifiers.append(sklearn.naive_bayes.ComplementNB())\n",
      "#classifiers.append(sklearn.tree._classes.DecisionTreeClassifier())\n",
      "#classifiers.append(sklearn.dummy.DummyClassifier())\n",
      "#classifiers.append(sklearn.tree._classes.ExtraTreeClassifier())\n",
      "#classifiers.append(sklearn.ensemble._forest.ExtraTreesClassifier())\n",
      "#classifiers.append(sklearn.mixture._gaussian_mixture.GaussianMixture())\n",
      "#classifiers.append(sklearn.naive_bayes.GaussianNB())\n",
      "#classifiers.append(sklearn.gaussian_process._gpc.GaussianProcessClassifier())\n",
      "#classifiers.append(sklearn.ensemble._gb.GradientBoostingClassifier())\n",
      "#classifiers.append(sklearn.model_selection._search.GridSearchCV())\n",
      "#classifiers.append(sklearn.ensemble._hist_gradient_boosting.gradient_boosting.HistGradientBoostingClassifier())\n",
      "#classifiers.append(sklearn.neighbors._classification.KNeighborsClassifier())\n",
      "#classifiers.append(sklearn.semi_supervised._label_propagation.LabelPropagation())\n",
      "#classifiers.append(sklearn.semi_supervised._label_propagation.LabelSpreading())\n",
      "#classifiers.append(sklearn.discriminant_analysis.LinearDiscriminantAnalysis())\n",
      "#classifiers.append(sklearn.linear_model._logistic.LogisticRegression())\n",
      "#classifiers.append(sklearn.linear_model._logistic.LogisticRegressionCV())\n",
      "#classifiers.append(sklearn.neural_network._multilayer_perceptron.MLPClassifier())\n",
      "#classifiers.append(sklearn.multioutput.MultiOutputClassifier())\n",
      "#classifiers.append(sklearn.naive_bayes.MultinomialNB())\n",
      "#classifiers.append(sklearn.svm._classes.NuSVC())\n",
      "#classifiers.append(sklearn.multiclass.OneVsRestClassifier())\n",
      "#classifiers.append(sklearn.pipeline.Pipeline())\n",
      "#classifiers.append(sklearn.discriminant_analysis.QuadraticDiscriminantAnalysis())\n",
      "#classifiers.append(sklearn.feature_selection._rfe.RFE())\n",
      "#classifiers.append(sklearn.feature_selection._rfe.RFECV())\n",
      "#classifiers.append(sklearn.neighbors._classification.RadiusNeighborsClassifier())\n",
      "#classifiers.append(sklearn.ensemble._forest.RandomForestClassifier())\n",
      "#classifiers.append(sklearn.model_selection._search.RandomizedSearchCV())\n",
      "#classifiers.append(sklearn.linear_model._stochastic_gradient.SGDClassifier())\n",
      "#classifiers.append(sklearn.svm._classes.SVC())\n",
      "#classifiers.append(sklearn.ensemble._stacking.StackingClassifier())\n",
      "#classifiers.append(sklearn.ensemble._voting.VotingClassifier())\n"
     ]
    }
   ],
   "source": [
    "for classifier in str_classifiers:\n",
    "    print(f'#classifiers.append({classifier}())')"
   ]
  },
  {
   "cell_type": "code",
   "execution_count": null,
   "metadata": {},
   "outputs": [],
   "source": [
    "classifiers = []"
   ]
  },
  {
   "cell_type": "code",
   "execution_count": null,
   "metadata": {},
   "outputs": [],
   "source": [
    "classifiers"
   ]
  },
  {
   "cell_type": "code",
   "execution_count": null,
   "metadata": {},
   "outputs": [],
   "source": []
  },
  {
   "cell_type": "code",
   "execution_count": 5,
   "metadata": {},
   "outputs": [],
   "source": [
    "from sklearn.ensemble._weight_boosting import AdaBoostClassifier"
   ]
  },
  {
   "cell_type": "code",
   "execution_count": 8,
   "metadata": {},
   "outputs": [],
   "source": [
    "c = sklearn.ensemble._weight_boosting.AdaBoostClassifier()"
   ]
  },
  {
   "cell_type": "code",
   "execution_count": 9,
   "metadata": {},
   "outputs": [
    {
     "ename": "TypeError",
     "evalue": "fit() missing 2 required positional arguments: 'X' and 'y'",
     "output_type": "error",
     "traceback": [
      "\u001b[1;31m---------------------------------------------------------------------------\u001b[0m",
      "\u001b[1;31mTypeError\u001b[0m                                 Traceback (most recent call last)",
      "\u001b[1;32m<ipython-input-9-9515fa896183>\u001b[0m in \u001b[0;36m<module>\u001b[1;34m\u001b[0m\n\u001b[1;32m----> 1\u001b[1;33m \u001b[0mc\u001b[0m\u001b[1;33m.\u001b[0m\u001b[0mfit\u001b[0m\u001b[1;33m(\u001b[0m\u001b[1;33m)\u001b[0m\u001b[1;33m\u001b[0m\u001b[1;33m\u001b[0m\u001b[0m\n\u001b[0m",
      "\u001b[1;31mTypeError\u001b[0m: fit() missing 2 required positional arguments: 'X' and 'y'"
     ]
    }
   ],
   "source": [
    "c.fit()"
   ]
  },
  {
   "cell_type": "code",
   "execution_count": null,
   "metadata": {},
   "outputs": [],
   "source": []
  }
 ],
 "metadata": {
  "kernelspec": {
   "display_name": "Python 3",
   "language": "python",
   "name": "python3"
  },
  "language_info": {
   "codemirror_mode": {
    "name": "ipython",
    "version": 3
   },
   "file_extension": ".py",
   "mimetype": "text/x-python",
   "name": "python",
   "nbconvert_exporter": "python",
   "pygments_lexer": "ipython3",
   "version": "3.7.7"
  }
 },
 "nbformat": 4,
 "nbformat_minor": 4
}
